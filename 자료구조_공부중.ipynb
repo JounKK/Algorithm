{
  "nbformat": 4,
  "nbformat_minor": 0,
  "metadata": {
    "colab": {
      "provenance": [],
      "authorship_tag": "ABX9TyOoz3dpm3dQ1drAcx5lNzDD",
      "include_colab_link": true
    },
    "kernelspec": {
      "name": "python3",
      "display_name": "Python 3"
    },
    "language_info": {
      "name": "python"
    }
  },
  "cells": [
    {
      "cell_type": "markdown",
      "metadata": {
        "id": "view-in-github",
        "colab_type": "text"
      },
      "source": [
        "<a href=\"https://colab.research.google.com/github/JounKK/Algorithm/blob/main/%EC%9E%90%EB%A3%8C%EA%B5%AC%EC%A1%B0_%EA%B3%B5%EB%B6%80%EC%A4%91.ipynb\" target=\"_parent\"><img src=\"https://colab.research.google.com/assets/colab-badge.svg\" alt=\"Open In Colab\"/></a>"
      ]
    },
    {
      "cell_type": "markdown",
      "source": [
        "# 스택(Stack)\n",
        "- 말 그대로 자료를 쌓아올린다.\n",
        "- 그러니까 출입구는 하나. 먼저 들어온 것이 제일 아래쌓이면서 가장 나중에 들어온 게 먼저 나감\n",
        "- LIFO(Last In First Out)\n",
        "- ADT(adstract data type)\n",
        "    - push()\n",
        "    - pop()\n",
        "    - peek()/top()\n",
        "    - bottom()\n",
        "    - empty()\n",
        "\n",
        "- 모델 구현은 보통 링크드리스트로 하지만, 일단 리스트로 한 번 구현해보고 링크드 리스트로 해보겠음."
      ],
      "metadata": {
        "id": "orMWOFvMZz_T"
      }
    },
    {
      "cell_type": "code",
      "execution_count": 1,
      "metadata": {
        "colab": {
          "base_uri": "https://localhost:8080/"
        },
        "id": "jvmC9LVRZwmK",
        "outputId": "e89a1bc6-3834-40b6-d7c7-fe7c2921b765"
      },
      "outputs": [
        {
          "output_type": "stream",
          "name": "stdout",
          "text": [
            "Stack이 생성되었습니다.\n"
          ]
        },
        {
          "output_type": "execute_result",
          "data": {
            "text/plain": [
              "20"
            ]
          },
          "metadata": {},
          "execution_count": 1
        }
      ],
      "source": [
        "class Stack:\n",
        "    def __init__(self):\n",
        "        print(\"Stack이 생성되었습니다.\")\n",
        "        self.l = []\n",
        "\n",
        "    def push(self, data):\n",
        "        self.l.append(data)\n",
        "\n",
        "    def pop(self):\n",
        "        return self.l.pop()\n",
        "\n",
        "    def top(self):\n",
        "        return self.l[-1]\n",
        "\n",
        "    def bottom(self):\n",
        "        return self.l[0]\n",
        "\n",
        "    def empty(self):\n",
        "        if not self.l:\n",
        "            return 1\n",
        "        return 0\n",
        "\n",
        "s = Stack()\n",
        "s.push(10)\n",
        "s.push(20)\n",
        "s.top()\n",
        "s.pop()"
      ]
    },
    {
      "cell_type": "code",
      "source": [
        "# 링크드리스트로 구현"
      ],
      "metadata": {
        "id": "rTN1uPhTbQ86"
      },
      "execution_count": 2,
      "outputs": []
    },
    {
      "cell_type": "code",
      "source": [
        "class Node:\n",
        "    def __init__(self, data):\n",
        "        self.data = data\n",
        "        self.next = None\n",
        "\n",
        "class Stack:\n",
        "    def __init__(self):\n",
        "        print(\"스택이 생성됨\")\n",
        "        self.head = None\n",
        "\n",
        "    def push(self, data):\n",
        "        새로운노드 = Node(data)\n",
        "        새로운노드.next = self.head\n",
        "        self.head = 새로운노드\n",
        "\n",
        "    def pop(self):\n",
        "        if self.is_empty():\n",
        "            return -1\n",
        "        data = self.head.data\n",
        "        self.head = self.head.next\n",
        "        return data\n",
        "\n",
        "    def is_empty(self):\n",
        "        if self.head:\n",
        "            return False\n",
        "        return True\n",
        "\n",
        "    def peek(self):\n",
        "        if self.is_empty():\n",
        "            return -1\n",
        "        return self.head.data"
      ],
      "metadata": {
        "id": "8epELUoU1jPn"
      },
      "execution_count": 3,
      "outputs": []
    },
    {
      "cell_type": "code",
      "source": [
        "s = Stack()\n",
        "s.push(10)\n",
        "s.push(20)\n",
        "s.push(30)\n",
        "s.pop()\n",
        "s.peek()"
      ],
      "metadata": {
        "colab": {
          "base_uri": "https://localhost:8080/"
        },
        "id": "V71_Jho23yx0",
        "outputId": "86bc8a00-c573-4b08-903e-4a39df85cbb4"
      },
      "execution_count": 4,
      "outputs": [
        {
          "output_type": "stream",
          "name": "stdout",
          "text": [
            "스택이 생성됨\n"
          ]
        },
        {
          "output_type": "execute_result",
          "data": {
            "text/plain": [
              "20"
            ]
          },
          "metadata": {},
          "execution_count": 4
        }
      ]
    },
    {
      "cell_type": "markdown",
      "source": [
        "## 백준 stack 문제\n",
        "* 문제링크 : https://www.acmicpc.net/problem/10828\n",
        "\n",
        "\n",
        "정수를 저장하는 스택을 구현한 다음, 입력으로 주어지는 명령을 처리하는 프로그램을 작성하시오.\n",
        "명령은 총 다섯 가지이다.\n",
        "\n",
        "- push X: 정수 X를 스택에 넣는 연산이다.\n",
        "- pop: 스택에서 가장 위에 있는 정수를 빼고, 그 수를 출력한다. 만약 스택에 들어있는 정수가 없는 경우에는 -1을 출력한다.\n",
        "- size: 스택에 들어있는 정수의 개수를 출력한다.\n",
        "- empty: 스택이 비어있으면 1, 아니면 0을 출력한다.\n",
        "- top: 스택의 가장 위에 있는 정수를 출력한다. 만약 스택에 들어있는 정수가 없는 경우에는 -1을 출력한다.\n",
        "\n",
        "\n",
        "입력:\n",
        "\n",
        "첫째 줄에 주어지는 명령의 수 N (1 ≤ N ≤ 10,000)이 주어진다. 둘째 줄부터 N개의 줄에는 명령이 하나씩 주어진다. 주어지는 정수는 1보다 크거나 같고, 100,000보다 작거나 같다. 문제에 나와있지 않은 명령이 주어지는 경우는 없다.\n",
        "\n",
        "\n",
        "예시:\n",
        "\n",
        "7\n",
        "pop\n",
        "top\n",
        "push 123\n",
        "top\n",
        "pop\n",
        "top\n",
        "pop\n",
        "\n",
        "출력예시:\n",
        "-1\n",
        "-1\n",
        "123\n",
        "123\n",
        "-1\n",
        "-1"
      ],
      "metadata": {
        "id": "Y_pkJRBp59oQ"
      }
    },
    {
      "cell_type": "code",
      "source": [
        "# import sys\n",
        "# input = sys.stdin.readline\n",
        "\n",
        "# # N = int(input())\n",
        "# stack = []\n",
        "\n",
        "# for _ in range(N):\n",
        "#     cmd = input().strip().split()\n",
        "#     if cmd[0] == 'push':\n",
        "#         if len(cmd) > 1:\n",
        "#             stack.append(int(cmd[1]))\n",
        "#     elif cmd[0] == 'pop':\n",
        "#         if stack:\n",
        "#             print(stack.pop())\n",
        "#         else:\n",
        "#             print(-1)\n",
        "#     elif cmd[0] == 'size':\n",
        "#         print(len(stack))\n",
        "#     elif cmd[0] == 'empty':\n",
        "#         print(int(not stack))\n",
        "#     elif cmd[0] == 'top':\n",
        "#         if stack:\n",
        "#             print(stack[-1])\n",
        "#         else:\n",
        "#             print(-1)"
      ],
      "metadata": {
        "id": "nobG1fF7IQRm"
      },
      "execution_count": 5,
      "outputs": []
    },
    {
      "cell_type": "code",
      "source": [
        "# import sys\n",
        "# input = sys.stdin.readline  # 이거 안쓰면 시간초과 됌\n",
        "\n",
        "class Node:\n",
        "    def __init__(self, data):\n",
        "        self.data = data\n",
        "        self.next = None\n",
        "\n",
        "class Stack:\n",
        "    def __init__(self):\n",
        "        self.head = None\n",
        "        self.데이터수 = 0\n",
        "\n",
        "    def push(self, data):\n",
        "        새로운노드 = Node(data)\n",
        "        새로운노드.next = self.head\n",
        "        self.head = 새로운노드\n",
        "        self.데이터수 += 1\n",
        "\n",
        "    def pop(self):\n",
        "        if self.empty():\n",
        "            return -1\n",
        "        data = self.head.data\n",
        "        self.head = self.head.next\n",
        "        self.데이터수 -= 1\n",
        "        return data\n",
        "\n",
        "    def size(self):\n",
        "        return self.데이터수\n",
        "\n",
        "    def empty(self):\n",
        "        return 0 if self.head else 1\n",
        "\n",
        "    def top(self):\n",
        "        return -1 if self.empty() else self.head.data"
      ],
      "metadata": {
        "id": "H67pZGA131xG"
      },
      "execution_count": 6,
      "outputs": []
    },
    {
      "cell_type": "code",
      "source": [
        "# 링크드리스트 클래스로 스택 구현해둔 것 사용하기\n",
        "n = int(input())\n",
        "s = Stack()\n",
        "\n",
        "for _ in range(n):\n",
        "    cmd = input().split()\n",
        "    if cmd[0] == 'push':\n",
        "        s.push(int(cmd[1]))\n",
        "    elif cmd[0] == 'pop':\n",
        "        print(s.pop())\n",
        "    elif cmd[0] == 'size':\n",
        "        print(s.size())\n",
        "    elif cmd[0] == 'empty':\n",
        "        print(s.empty())\n",
        "    elif cmd[0] == 'top':\n",
        "        print(s.top())to\n",
        "    else:\n",
        "        print(\"unacceptable op\")\n"
      ],
      "metadata": {
        "colab": {
          "base_uri": "https://localhost:8080/"
        },
        "id": "ZR2dkscZ7h0b",
        "outputId": "28f1ec87-579b-4ee0-88d8-62d8f8fb1f74"
      },
      "execution_count": 7,
      "outputs": [
        {
          "output_type": "stream",
          "name": "stdout",
          "text": [
            "4\n",
            "push 1\n",
            "push 2\n",
            "pop\n",
            "2\n",
            "p\n",
            "unacceptable op\n"
          ]
        }
      ]
    },
    {
      "cell_type": "code",
      "source": [],
      "metadata": {
        "id": "h_HBw8o_7hrV"
      },
      "execution_count": 7,
      "outputs": []
    },
    {
      "cell_type": "code",
      "source": [],
      "metadata": {
        "id": "feM4w19_FFDA"
      },
      "execution_count": 7,
      "outputs": []
    }
  ]
}