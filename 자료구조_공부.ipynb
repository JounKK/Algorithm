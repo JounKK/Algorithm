{
  "nbformat": 4,
  "nbformat_minor": 0,
  "metadata": {
    "colab": {
      "provenance": [],
      "authorship_tag": "ABX9TyM71Uvebqrb4b5Jz9XDUKAJ",
      "include_colab_link": true
    },
    "kernelspec": {
      "name": "python3",
      "display_name": "Python 3"
    },
    "language_info": {
      "name": "python"
    }
  },
  "cells": [
    {
      "cell_type": "markdown",
      "metadata": {
        "id": "view-in-github",
        "colab_type": "text"
      },
      "source": [
        "<a href=\"https://colab.research.google.com/github/JounKK/Algorithm/blob/main/%EC%9E%90%EB%A3%8C%EA%B5%AC%EC%A1%B0_%EA%B3%B5%EB%B6%80.ipynb\" target=\"_parent\"><img src=\"https://colab.research.google.com/assets/colab-badge.svg\" alt=\"Open In Colab\"/></a>"
      ]
    },
    {
      "cell_type": "markdown",
      "source": [
        "# 시간복잡도"
      ],
      "metadata": {
        "id": "CE7wtuLbLmUs"
      }
    },
    {
      "cell_type": "markdown",
      "source": [
        "# 스택(Stack)\n",
        "- 말 그대로 자료를 쌓아올린다.\n",
        "- 그러니까 출입구는 하나. 먼저 들어온 것이 제일 아래쌓이면서 가장 나중에 들어온 게 먼저 나감\n",
        "- LIFO(Last In First Out)\n",
        "- ADT(adstract data type)\n",
        "    - push()\n",
        "    - pop()\n",
        "    - peek()/top()\n",
        "    - bottom()\n",
        "    - empty()\n",
        "\n",
        "- 모델 구현은 보통 링크드리스트로 하지만, 일단 리스트로 한 번 구현해보고 링크드 리스트로 해보겠음."
      ],
      "metadata": {
        "id": "orMWOFvMZz_T"
      }
    },
    {
      "cell_type": "code",
      "execution_count": null,
      "metadata": {
        "colab": {
          "base_uri": "https://localhost:8080/"
        },
        "id": "jvmC9LVRZwmK",
        "outputId": "e89a1bc6-3834-40b6-d7c7-fe7c2921b765"
      },
      "outputs": [
        {
          "output_type": "stream",
          "name": "stdout",
          "text": [
            "Stack이 생성되었습니다.\n"
          ]
        },
        {
          "output_type": "execute_result",
          "data": {
            "text/plain": [
              "20"
            ]
          },
          "metadata": {},
          "execution_count": 1
        }
      ],
      "source": [
        "class Stack:\n",
        "    def __init__(self):\n",
        "        print(\"Stack이 생성되었습니다.\")\n",
        "        self.l = []\n",
        "\n",
        "    def push(self, data):\n",
        "        self.l.append(data)\n",
        "\n",
        "    def pop(self):\n",
        "        return self.l.pop()\n",
        "\n",
        "    def top(self):\n",
        "        return self.l[-1]\n",
        "\n",
        "    def bottom(self):\n",
        "        return self.l[0]\n",
        "\n",
        "    def empty(self):\n",
        "        if not self.l:\n",
        "            return 1\n",
        "        return 0\n",
        "\n",
        "s = Stack()\n",
        "s.push(10)\n",
        "s.push(20)\n",
        "s.top()\n",
        "s.pop()"
      ]
    },
    {
      "cell_type": "code",
      "source": [
        "# 링크드리스트로 구현"
      ],
      "metadata": {
        "id": "rTN1uPhTbQ86"
      },
      "execution_count": null,
      "outputs": []
    },
    {
      "cell_type": "code",
      "source": [
        "class Node:\n",
        "    def __init__(self, data):\n",
        "        self.data = data\n",
        "        self.next = None\n",
        "\n",
        "class Stack:\n",
        "    def __init__(self):\n",
        "        print(\"스택이 생성됨\")\n",
        "        self.head = None\n",
        "\n",
        "    def push(self, data):\n",
        "        새로운노드 = Node(data)\n",
        "        새로운노드.next = self.head\n",
        "        self.head = 새로운노드\n",
        "\n",
        "    def pop(self):\n",
        "        if self.is_empty():\n",
        "            return -1\n",
        "        data = self.head.data\n",
        "        self.head = self.head.next\n",
        "        return data\n",
        "\n",
        "    def is_empty(self):\n",
        "        if self.head:\n",
        "            return False\n",
        "        return True\n",
        "\n",
        "    def peek(self):\n",
        "        if self.is_empty():\n",
        "            return -1\n",
        "        return self.head.data"
      ],
      "metadata": {
        "id": "8epELUoU1jPn"
      },
      "execution_count": null,
      "outputs": []
    },
    {
      "cell_type": "code",
      "source": [
        "s = Stack()\n",
        "s.push(10)\n",
        "s.push(20)\n",
        "s.push(30)\n",
        "s.pop()\n",
        "s.peek()"
      ],
      "metadata": {
        "colab": {
          "base_uri": "https://localhost:8080/"
        },
        "id": "V71_Jho23yx0",
        "outputId": "86bc8a00-c573-4b08-903e-4a39df85cbb4"
      },
      "execution_count": null,
      "outputs": [
        {
          "output_type": "stream",
          "name": "stdout",
          "text": [
            "스택이 생성됨\n"
          ]
        },
        {
          "output_type": "execute_result",
          "data": {
            "text/plain": [
              "20"
            ]
          },
          "metadata": {},
          "execution_count": 4
        }
      ]
    },
    {
      "cell_type": "markdown",
      "source": [
        "## 백준 stack 문제\n",
        "* 문제링크 : https://www.acmicpc.net/problem/10828\n",
        "\n",
        "\n",
        "정수를 저장하는 스택을 구현한 다음, 입력으로 주어지는 명령을 처리하는 프로그램을 작성하시오.\n",
        "명령은 총 다섯 가지이다.\n",
        "\n",
        "- push X: 정수 X를 스택에 넣는 연산이다.\n",
        "- pop: 스택에서 가장 위에 있는 정수를 빼고, 그 수를 출력한다. 만약 스택에 들어있는 정수가 없는 경우에는 -1을 출력한다.\n",
        "- size: 스택에 들어있는 정수의 개수를 출력한다.\n",
        "- empty: 스택이 비어있으면 1, 아니면 0을 출력한다.\n",
        "- top: 스택의 가장 위에 있는 정수를 출력한다. 만약 스택에 들어있는 정수가 없는 경우에는 -1을 출력한다.\n",
        "\n",
        "\n",
        "입력:\n",
        "\n",
        "첫째 줄에 주어지는 명령의 수 N (1 ≤ N ≤ 10,000)이 주어진다. 둘째 줄부터 N개의 줄에는 명령이 하나씩 주어진다. 주어지는 정수는 1보다 크거나 같고, 100,000보다 작거나 같다. 문제에 나와있지 않은 명령이 주어지는 경우는 없다.\n",
        "\n",
        "\n",
        "예시:\n",
        "\n",
        "7\n",
        "pop\n",
        "top\n",
        "push 123\n",
        "top\n",
        "pop\n",
        "top\n",
        "pop\n",
        "\n",
        "출력예시:\n",
        "-1\n",
        "-1\n",
        "123\n",
        "123\n",
        "-1\n",
        "-1"
      ],
      "metadata": {
        "id": "Y_pkJRBp59oQ"
      }
    },
    {
      "cell_type": "code",
      "source": [
        "# import sys\n",
        "# input = sys.stdin.readline\n",
        "\n",
        "# # N = int(input())\n",
        "# stack = []\n",
        "\n",
        "# for _ in range(N):\n",
        "#     cmd = input().strip().split()\n",
        "#     if cmd[0] == 'push':\n",
        "#         if len(cmd) > 1:\n",
        "#             stack.append(int(cmd[1]))\n",
        "#     elif cmd[0] == 'pop':\n",
        "#         if stack:\n",
        "#             print(stack.pop())\n",
        "#         else:\n",
        "#             print(-1)\n",
        "#     elif cmd[0] == 'size':\n",
        "#         print(len(stack))\n",
        "#     elif cmd[0] == 'empty':\n",
        "#         print(int(not stack))\n",
        "#     elif cmd[0] == 'top':\n",
        "#         if stack:\n",
        "#             print(stack[-1])\n",
        "#         else:\n",
        "#             print(-1)"
      ],
      "metadata": {
        "id": "nobG1fF7IQRm"
      },
      "execution_count": null,
      "outputs": []
    },
    {
      "cell_type": "code",
      "source": [
        "# import sys\n",
        "# input = sys.stdin.readline  # 이거 안쓰면 시간초과 됌\n",
        "\n",
        "class Node:\n",
        "    def __init__(self, data):\n",
        "        self.data = data\n",
        "        self.next = None\n",
        "\n",
        "class Stack:\n",
        "    def __init__(self):\n",
        "        self.head = None\n",
        "        self.데이터수 = 0\n",
        "\n",
        "    def push(self, data):\n",
        "        새로운노드 = Node(data)\n",
        "        새로운노드.next = self.head\n",
        "        self.head = 새로운노드\n",
        "        self.데이터수 += 1\n",
        "\n",
        "    def pop(self):\n",
        "        if self.empty():\n",
        "            return -1\n",
        "        data = self.head.data\n",
        "        self.head = self.head.next\n",
        "        self.데이터수 -= 1\n",
        "        return data\n",
        "\n",
        "    def size(self):\n",
        "        return self.데이터수\n",
        "\n",
        "    def empty(self):\n",
        "        return 0 if self.head else 1\n",
        "\n",
        "    def top(self):\n",
        "        return -1 if self.empty() else self.head.data"
      ],
      "metadata": {
        "id": "H67pZGA131xG"
      },
      "execution_count": null,
      "outputs": []
    },
    {
      "cell_type": "code",
      "source": [
        "# 링크드리스트 클래스로 스택 구현해둔 것 사용하기\n",
        "n = int(input())\n",
        "s = Stack()\n",
        "\n",
        "for _ in range(n):\n",
        "    cmd = input().split()\n",
        "    if cmd[0] == 'push':\n",
        "        s.push(int(cmd[1]))\n",
        "    elif cmd[0] == 'pop':\n",
        "        print(s.pop())\n",
        "    elif cmd[0] == 'size':\n",
        "        print(s.size())\n",
        "    elif cmd[0] == 'empty':\n",
        "        print(s.empty())\n",
        "    elif cmd[0] == 'top':\n",
        "        print(s.top())to\n",
        "    else:\n",
        "        print(\"unacceptable op\")\n"
      ],
      "metadata": {
        "colab": {
          "base_uri": "https://localhost:8080/"
        },
        "id": "ZR2dkscZ7h0b",
        "outputId": "28f1ec87-579b-4ee0-88d8-62d8f8fb1f74"
      },
      "execution_count": null,
      "outputs": [
        {
          "output_type": "stream",
          "name": "stdout",
          "text": [
            "4\n",
            "push 1\n",
            "push 2\n",
            "pop\n",
            "2\n",
            "p\n",
            "unacceptable op\n"
          ]
        }
      ]
    },
    {
      "cell_type": "markdown",
      "source": [
        "# 큐(Queue)\n",
        "- 앞에서 넣고 뒤에서 빼고 : 넣은 대로 빠짐\n",
        "- FIFO : First In, First Out\n",
        "- 관을 통과한다고 생각하자.\n",
        "- 너비우선, 깊이우선탐색에서 응용됨"
      ],
      "metadata": {
        "id": "6zj8KgJ3Ktpv"
      }
    },
    {
      "cell_type": "code",
      "source": [
        "class Queue:\n",
        "\n",
        "    def __init__(self):\n",
        "        print(\"Queue 생썽 !\")\n",
        "        self.L = []\n",
        "\n",
        "    def push(self, data):\n",
        "        self.L.append(data)\n",
        "\n",
        "    def pop(self):\n",
        "        return self.L.pop(0)"
      ],
      "metadata": {
        "id": "h_HBw8o_7hrV"
      },
      "execution_count": 16,
      "outputs": []
    },
    {
      "cell_type": "code",
      "source": [
        "q = Queue()\n",
        "\n",
        "q.push(1)\n",
        "q.push(2)\n",
        "q.push(3)\n",
        "q.pop()\n",
        "q.pop()"
      ],
      "metadata": {
        "id": "feM4w19_FFDA",
        "colab": {
          "base_uri": "https://localhost:8080/"
        },
        "outputId": "b102e88c-ff34-4196-ec94-488e60676a4d"
      },
      "execution_count": 19,
      "outputs": [
        {
          "output_type": "stream",
          "name": "stdout",
          "text": [
            "Queue 생썽 !\n"
          ]
        },
        {
          "output_type": "execute_result",
          "data": {
            "text/plain": [
              "2"
            ]
          },
          "metadata": {},
          "execution_count": 19
        }
      ]
    },
    {
      "cell_type": "markdown",
      "source": [
        "# 데크(Deque, Double Ended Queue)\n",
        "- 양 끝에서 모두 삽입과 삭제가 가능한 큐\n",
        "- 덱은 스택 + 큐 연산\n",
        "    - ADT는 스택과 큐에 구현되어 있는 것과 유사하게 구현\n",
        "- collections 라는 모듈에 deque라는 클래스로 이미 구현되어 있음.\n",
        "- 양방향 연결리스트로 구성\n",
        "- 단순히 값을 삽입/삭제시에는 O(1)만큼의 시간밖에 할애되지 않기 때문에 아주 효율적임\n",
        "\n",
        "- 프로그래머스 풀다가 데크 공부했던 설명\n",
        "https://jounkim.tistory.com/24"
      ],
      "metadata": {
        "id": "VRLHzF81Kw89"
      }
    },
    {
      "cell_type": "code",
      "source": [
        "from collections import deque\n",
        "\n",
        "d = deque()\n",
        "print(type(d))\n",
        "\n",
        "# append(x) : 오른쪽에 (x) 삽입\n",
        "# O(1)\n",
        "for i in range(10):\n",
        "    d.append(i)\n",
        "print(d)\n",
        "\n",
        "# appendleft(x) : 왼쪽에 x 삽입\n",
        "# O(1)\n",
        "d.appendleft(100)\n",
        "print(d)\n",
        "\n",
        "# insert(idx, x) : idx 위치에 x 삽입\n",
        "# 삽입으로 인해 제한된 길이의 데크가 maxlen 이상으로 커지면, IndexError 발생\n",
        "# O(N)\n",
        "d.insert(5, 123)\n",
        "print(d)\n",
        "\n",
        "# extendleft / extend\n",
        "# 왼쪽/오른쪽에 iterable한 객체를 통째로 append 하여 연장시키는 연산\n",
        "# O(K)\n",
        "d.extend([-1,-2,-3])\n",
        "print(d)\n",
        "d.extendleft([-100,-200,-300])\n",
        "print(d)\n",
        "\n",
        "# pop() : 스택처럼 오른(위)쪽에서 하나씩 삭제, 삭제한 것은 반환됌\n",
        "# O(1)\n",
        "for i in range(3):\n",
        "    r = d.pop()\n",
        "    print(r)\n",
        "print(d)\n",
        "\n",
        "# popleft() : 큐처럼 왼(아래)쪽에서 하나씩 삭제, return\n",
        "# O(1)\n",
        "for i in range(3):\n",
        "    r = d.popleft()\n",
        "    print(r)\n",
        "print(d)\n",
        "\n",
        "# index(x, start, stop)\n",
        "# O(N)\n",
        "print(d.index(4,0,10)) # 인덱스 0-10 사이에 4를 찾아라\n",
        "\n",
        "# count(x) : x의 개수 세기, return x\n",
        "# O(N)\n",
        "print(d.count(100)) # 100의 개수\n",
        "\n",
        "# rotate(n=1)\n",
        "# n이 음수이면 왼쪽으로 회전\n",
        "# O(K)\n",
        "d.rotate(2) # 오른쪽으로 2번 회전\n",
        "print(d)\n",
        "\n",
        "# 리스트로 변환 가능\n",
        "print(list(d))"
      ],
      "metadata": {
        "colab": {
          "base_uri": "https://localhost:8080/"
        },
        "id": "lrsn4ZDZLiWx",
        "outputId": "64807640-0c55-4e36-f964-17ccdf7454f1"
      },
      "execution_count": 15,
      "outputs": [
        {
          "output_type": "stream",
          "name": "stdout",
          "text": [
            "<class 'collections.deque'>\n",
            "deque([0, 1, 2, 3, 4, 5, 6, 7, 8, 9])\n",
            "deque([100, 0, 1, 2, 3, 4, 5, 6, 7, 8, 9])\n",
            "deque([100, 0, 1, 2, 3, 123, 4, 5, 6, 7, 8, 9])\n",
            "deque([100, 0, 1, 2, 3, 123, 4, 5, 6, 7, 8, 9, -1, -2, -3])\n",
            "deque([-300, -200, -100, 100, 0, 1, 2, 3, 123, 4, 5, 6, 7, 8, 9, -1, -2, -3])\n",
            "-3\n",
            "-2\n",
            "-1\n",
            "deque([-300, -200, -100, 100, 0, 1, 2, 3, 123, 4, 5, 6, 7, 8, 9])\n",
            "-300\n",
            "-200\n",
            "-100\n",
            "deque([100, 0, 1, 2, 3, 123, 4, 5, 6, 7, 8, 9])\n",
            "6\n",
            "1\n",
            "deque([8, 9, 100, 0, 1, 2, 3, 123, 4, 5, 6, 7])\n",
            "[8, 9, 100, 0, 1, 2, 3, 123, 4, 5, 6, 7]\n"
          ]
        }
      ]
    },
    {
      "cell_type": "markdown",
      "source": [
        "# 해시테이블"
      ],
      "metadata": {
        "id": "KvvQcqERLqNx"
      }
    },
    {
      "cell_type": "code",
      "source": [],
      "metadata": {
        "id": "jxa_K8jmLrKM"
      },
      "execution_count": null,
      "outputs": []
    },
    {
      "cell_type": "markdown",
      "source": [
        "# 셋"
      ],
      "metadata": {
        "id": "jO6wg7RBLrls"
      }
    },
    {
      "cell_type": "code",
      "source": [],
      "metadata": {
        "id": "wTosANusLsfi"
      },
      "execution_count": null,
      "outputs": []
    },
    {
      "cell_type": "markdown",
      "source": [
        "# 알고리즘\n",
        "- 재귀, 재귀적으로 생각하기, 하노이탑\n",
        "- 정렬(버블, 선택, 삽입, 병합, 퀵)\n",
        "- 동적프로그래밍(메모이제이션, 타뷸레이션)"
      ],
      "metadata": {
        "id": "UT3s6A5sLtKX"
      }
    },
    {
      "cell_type": "code",
      "source": [],
      "metadata": {
        "id": "CKzoZINjL9X8"
      },
      "execution_count": null,
      "outputs": []
    }
  ]
}